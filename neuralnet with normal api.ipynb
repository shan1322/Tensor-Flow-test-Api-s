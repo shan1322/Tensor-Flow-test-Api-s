{
 "cells": [
  {
   "cell_type": "code",
   "execution_count": 2,
   "metadata": {},
   "outputs": [],
   "source": [
    "import tensorflow as tf\n",
    "from sklearn.datasets import load_iris\n",
    "import numpy as np\n"
   ]
  },
  {
   "cell_type": "code",
   "execution_count": 3,
   "metadata": {},
   "outputs": [
    {
     "name": "stdout",
     "output_type": "stream",
     "text": [
      "(150, 4)\n"
     ]
    }
   ],
   "source": [
    "data=load_iris()\n",
    "labels=data['target']\n",
    "features=data['data']\n",
    "print(features.shape)"
   ]
  },
  {
   "cell_type": "code",
   "execution_count": 4,
   "metadata": {},
   "outputs": [],
   "source": [
    "labels_hot=tf.one_hot(labels,depth=3,axis=1)\n"
   ]
  },
  {
   "cell_type": "code",
   "execution_count": 5,
   "metadata": {},
   "outputs": [
    {
     "name": "stdout",
     "output_type": "stream",
     "text": [
      "(150, 3)\n"
     ]
    }
   ],
   "source": [
    "with tf.Session() as s:\n",
    "    temp=s.run(labels_hot)\n",
    "print((temp.shape))"
   ]
  },
  {
   "cell_type": "code",
   "execution_count": 6,
   "metadata": {},
   "outputs": [],
   "source": [
    "learning_rate = 0.01\n",
    "num_steps = 500\n",
    "batch_size = 128\n",
    "display_step = 100"
   ]
  },
  {
   "cell_type": "code",
   "execution_count": 7,
   "metadata": {},
   "outputs": [],
   "source": [
    "n_hidden_1=200\n",
    "n_hidden_2=200\n",
    "n_input=4\n",
    "num_classes=3"
   ]
  },
  {
   "cell_type": "code",
   "execution_count": 8,
   "metadata": {},
   "outputs": [],
   "source": [
    "X=tf.placeholder(\"float\",[None,n_input])\n",
    "Y=tf.placeholder(\"float\",[None,num_classes])"
   ]
  },
  {
   "cell_type": "code",
   "execution_count": 9,
   "metadata": {},
   "outputs": [],
   "source": [
    "weights={'w1':tf.Variable(tf.random_normal([n_input, n_hidden_1])),\n",
    "         'w2':tf.Variable(tf.random_normal([n_hidden_1,n_hidden_2])),\n",
    "         'out': tf.Variable(tf.random_normal([n_hidden_2, num_classes]))}\n",
    "biases = {\n",
    "    'b1': tf.Variable(tf.random_normal([n_hidden_1])),\n",
    "    'b2': tf.Variable(tf.random_normal([n_hidden_2])),\n",
    "    'out': tf.Variable(tf.random_normal([num_classes]))\n",
    "}"
   ]
  },
  {
   "cell_type": "code",
   "execution_count": 10,
   "metadata": {},
   "outputs": [],
   "source": [
    "def neural_net(x):\n",
    "    layer_1 = tf.add(tf.matmul(x, weights['w1']), biases['b1'])\n",
    "    layer_2 = tf.add(tf.matmul(layer_1, weights['w2']), biases['b2'])\n",
    "    layer_out = tf.add(tf.matmul(layer_2, weights['out']), biases['out'])\n",
    "    return layer_out"
   ]
  },
  {
   "cell_type": "code",
   "execution_count": 13,
   "metadata": {},
   "outputs": [],
   "source": [
    "logits = neural_net(X)\n",
    "y = tf.nn.softmax(logits)\n",
    "loss_op = tf.reduce_mean(tf.nn.softmax_cross_entropy_with_logits(logits=logits, labels=Y))\n",
    "optimizer = tf.train.AdamOptimizer(learning_rate=learning_rate)\n",
    "train_op = optimizer.minimize(loss_op)\n",
    "correct_pred = tf.equal(tf.argmax(logits, 1), tf.argmax(Y, 1))\n",
    "accuracy = tf.multiply(tf.reduce_mean(tf.cast(correct_pred, tf.float32)),100)\n",
    "init = tf.global_variables_initializer()"
   ]
  },
  {
   "cell_type": "code",
   "execution_count": 14,
   "metadata": {},
   "outputs": [
    {
     "name": "stdout",
     "output_type": "stream",
     "text": [
      "loss1 1412.4395\n",
      "accuracy1 52.666664\n",
      "loss50 8.623077\n",
      "accuracy50 94.0\n",
      "loss100 1.7174467\n",
      "accuracy100 98.66667\n",
      "loss150 1.6092217\n",
      "accuracy150 98.66667\n",
      "loss200 1.4780705\n",
      "accuracy200 98.66667\n",
      "loss250 1.4228271\n",
      "accuracy250 98.66667\n",
      "loss300 1.4479258\n",
      "accuracy300 98.0\n",
      "loss350 1.6895609\n",
      "accuracy350 96.0\n",
      "loss400 1.7514341\n",
      "accuracy400 96.0\n",
      "loss450 0.7835645\n",
      "accuracy450 98.66667\n",
      "loss500 0.596621\n",
      "accuracy500 98.66667\n"
     ]
    }
   ],
   "source": [
    "with tf.Session() as sess:\n",
    "    sess.run(init)\n",
    "    for i in range(1, num_steps+1):\n",
    "        (sess.run(train_op, feed_dict={X: features, Y: temp}))\n",
    "        loss, acc = sess.run([loss_op, accuracy], feed_dict={X: features,Y:temp})\n",
    "        if i % 50 == 0 or i == 1:\n",
    "            print(\"loss\"+str(i),loss)\n",
    "            print(\"accuracy\"+str(i),acc)\n",
    " "
   ]
  }
 ],
 "metadata": {
  "kernelspec": {
   "display_name": "Python 3",
   "language": "python",
   "name": "python3"
  },
  "language_info": {
   "codemirror_mode": {
    "name": "ipython",
    "version": 3
   },
   "file_extension": ".py",
   "mimetype": "text/x-python",
   "name": "python",
   "nbconvert_exporter": "python",
   "pygments_lexer": "ipython3",
   "version": "3.6.0"
  }
 },
 "nbformat": 4,
 "nbformat_minor": 2
}
